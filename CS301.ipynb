{
  "nbformat": 4,
  "nbformat_minor": 0,
  "metadata": {
    "colab": {
      "provenance": [],
      "mount_file_id": "17gXS3J_Tmfq02SYSDU3jfYlIO_omnkKG",
      "authorship_tag": "ABX9TyOmoLUdJNF8RgY+ga/agYOA",
      "include_colab_link": true
    },
    "kernelspec": {
      "name": "python3",
      "display_name": "Python 3"
    },
    "language_info": {
      "name": "python"
    }
  },
  "cells": [
    {
      "cell_type": "markdown",
      "metadata": {
        "id": "view-in-github",
        "colab_type": "text"
      },
      "source": [
        "<a href=\"https://colab.research.google.com/github/Elyssiah/cs301/blob/main/CS301.ipynb\" target=\"_parent\"><img src=\"https://colab.research.google.com/assets/colab-badge.svg\" alt=\"Open In Colab\"/></a>"
      ]
    },
    {
      "cell_type": "markdown",
      "source": [
        "# New Section"
      ],
      "metadata": {
        "id": "2tI-78AJLCpq"
      }
    },
    {
      "cell_type": "code",
      "source": [
        "def sum_n_numbers(n):\n",
        "    return sum(list(range(n,0,-1)))\n",
        "\n",
        "print(sum_n_numbers(10))\n",
        "\n",
        "def sum_n_numbers2(n):\n",
        "  sum = 0\n",
        "  for num in range(n+1):\n",
        "    sum+=num\n",
        "  return sum\n",
        "\n",
        "print(sum_n_numbers2(10))\n",
        "\n",
        "def sum_n_numbers3(n):\n",
        "  return ((n+1) * n ) //2\n",
        "\n",
        "print(sum_n_numbers3(10))"
      ],
      "metadata": {
        "colab": {
          "base_uri": "https://localhost:8080/"
        },
        "id": "MaW-wWNZ0fqB",
        "outputId": "7126a3c4-04e3-41ba-f0e4-75a4825338bf"
      },
      "execution_count": null,
      "outputs": [
        {
          "output_type": "stream",
          "name": "stdout",
          "text": [
            "55\n",
            "55\n",
            "55\n"
          ]
        }
      ]
    },
    {
      "cell_type": "code",
      "source": [
        "fin = open('words.txt')\n",
        "for line in fin:\n",
        "    word = line.strip()\n",
        "\n",
        "with open(r'words.txt', 'r') as file:\n",
        "        # read all content from a file using read()\n",
        "        content = file.read()\n",
        "        # check if string present or not\n",
        "        if 'userWord' in content:\n",
        "            print('string exist')\n",
        "        else:\n",
        "            print('string does not exist')\n",
        "        content = words.txt.read()\n",
        "        # check if string present or not\n",
        "        if 'Line 8' in content:\n",
        "            print('string exist')\n",
        "        else:\n",
        "            print('string does not exist')\n",
        "\n",
        "userWord = input(\"Please enter any word that can be checked to be a valid word in our dictonary.\")\n",
        "print(\"Your word was:\", userWord)\n",
        "if userWord in\n",
        "print(\"and that word is valid in our dictionary.\")\n",
        "else:\n",
        "print(\"Sorry, but that word is not a valid word in our dictionary\")"
      ],
      "metadata": {
        "id": "z_Bzb_jT33Zf"
      },
      "execution_count": null,
      "outputs": []
    },
    {
      "cell_type": "code",
      "source": [
        "\n",
        "word = input(\"Please enter any word that can be checked to be a valid word in our dictonary.\")\n",
        "fin = open('words.txt')\n",
        "for line in fin:\n",
        "    word = line.strip()\n",
        "    content = words.txt.read()\n",
        "    if 'word' in content:\n",
        "            print('string exist')\n",
        "    else:\n",
        "            print('string does not exist')\n"
      ],
      "metadata": {
        "colab": {
          "base_uri": "https://localhost:8080/",
          "height": 253
        },
        "id": "9RIrCA2gBeST",
        "outputId": "1ee8aa6f-5235-4343-9095-642bcf626788"
      },
      "execution_count": null,
      "outputs": [
        {
          "name": "stdout",
          "output_type": "stream",
          "text": [
            "Please enter any word that can be checked to be a valid word in our dictonary.apple\n"
          ]
        },
        {
          "output_type": "error",
          "ename": "NameError",
          "evalue": "ignored",
          "traceback": [
            "\u001b[0;31m---------------------------------------------------------------------------\u001b[0m",
            "\u001b[0;31mNameError\u001b[0m                                 Traceback (most recent call last)",
            "\u001b[0;32m<ipython-input-44-950984b645ee>\u001b[0m in \u001b[0;36m<module>\u001b[0;34m\u001b[0m\n\u001b[1;32m      3\u001b[0m \u001b[0;32mfor\u001b[0m \u001b[0mline\u001b[0m \u001b[0;32min\u001b[0m \u001b[0mfin\u001b[0m\u001b[0;34m:\u001b[0m\u001b[0;34m\u001b[0m\u001b[0;34m\u001b[0m\u001b[0m\n\u001b[1;32m      4\u001b[0m     \u001b[0mword\u001b[0m \u001b[0;34m=\u001b[0m \u001b[0mline\u001b[0m\u001b[0;34m.\u001b[0m\u001b[0mstrip\u001b[0m\u001b[0;34m(\u001b[0m\u001b[0;34m)\u001b[0m\u001b[0;34m\u001b[0m\u001b[0;34m\u001b[0m\u001b[0m\n\u001b[0;32m----> 5\u001b[0;31m     \u001b[0mcontent\u001b[0m \u001b[0;34m=\u001b[0m \u001b[0mwords\u001b[0m\u001b[0;34m.\u001b[0m\u001b[0mtxt\u001b[0m\u001b[0;34m.\u001b[0m\u001b[0mread\u001b[0m\u001b[0;34m(\u001b[0m\u001b[0;34m)\u001b[0m\u001b[0;34m\u001b[0m\u001b[0;34m\u001b[0m\u001b[0m\n\u001b[0m\u001b[1;32m      6\u001b[0m     \u001b[0;32mif\u001b[0m \u001b[0;34m'word'\u001b[0m \u001b[0;32min\u001b[0m \u001b[0mcontent\u001b[0m\u001b[0;34m:\u001b[0m\u001b[0;34m\u001b[0m\u001b[0;34m\u001b[0m\u001b[0m\n\u001b[1;32m      7\u001b[0m             \u001b[0mprint\u001b[0m\u001b[0;34m(\u001b[0m\u001b[0;34m'string exist'\u001b[0m\u001b[0;34m)\u001b[0m\u001b[0;34m\u001b[0m\u001b[0;34m\u001b[0m\u001b[0m\n",
            "\u001b[0;31mNameError\u001b[0m: name 'words' is not defined"
          ]
        }
      ]
    }
  ]
}