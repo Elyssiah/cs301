{
  "cells": [
    {
      "cell_type": "markdown",
      "metadata": {
        "colab_type": "text",
        "id": "view-in-github"
      },
      "source": [
        "<a href=\"https://colab.research.google.com/github/Elyssiah/cs301/blob/main/CS301.ipynb\" target=\"_parent\"><img src=\"https://colab.research.google.com/assets/colab-badge.svg\" alt=\"Open In Colab\"/></a>"
      ]
    },
    {
      "cell_type": "markdown",
      "metadata": {
        "id": "2tI-78AJLCpq"
      },
      "source": [
        "# New Section"
      ]
    },
    {
      "cell_type": "code",
      "execution_count": 4,
      "metadata": {
        "colab": {
          "base_uri": "https://localhost:8080/"
        },
        "id": "MaW-wWNZ0fqB",
        "outputId": "7126a3c4-04e3-41ba-f0e4-75a4825338bf"
      },
      "outputs": [
        {
          "name": "stdout",
          "output_type": "stream",
          "text": [
            "55\n",
            "55\n",
            "55\n"
          ]
        }
      ],
      "source": [
        "# Problem 1 \n",
        "# 3 different ways to get the sum of the first n positive integers\n",
        "def problem1A(n):\n",
        "    return sum(list(range(n,0,-1)))\n",
        "\n",
        "print(problem1A(10))\n",
        "\n",
        "def problem1B(n):\n",
        "  sum = 0\n",
        "  for num in range(n+1):\n",
        "    sum+=num\n",
        "  return sum\n",
        "\n",
        "print(problem1B(10))\n",
        "\n",
        "def problem1C(n):\n",
        "  return ((n+1) * n ) //2\n",
        "\n",
        "print(problem1C(10))"
      ]
    },
    {
      "cell_type": "code",
      "execution_count": 1,
      "metadata": {},
      "outputs": [
        {
          "name": "stdout",
          "output_type": "stream",
          "text": [
            "Your word was apple and that word is in our dictionary.\n",
            "True\n",
            "Your word was jajaj but that word is not a valid word in our dictionary.\n",
            "False\n",
            "Your word was TiGer and that word is in our dictionary.\n",
            "True\n"
          ]
        }
      ],
      "source": [
        "# Problem 2\n",
        "# Given a proposed eord that someone wants to play, can you check that it is a valid word?\n",
        "def problem2(userWord):\n",
        "    dictionaryList = open('words.txt')\n",
        "    for line in dictionaryList:\n",
        "        word = line.strip()\n",
        "        if userWord.lower() == word.lower():\n",
        "            print('Your word was', userWord, 'and that word is in our dictionary.')\n",
        "            return True \n",
        "\n",
        "    print('Your word was', userWord, 'but that word is not a valid word in our dictionary.')   \n",
        "    return False\n",
        "    \n",
        "\n",
        "print(problem2('apple'))\n",
        "print(problem2('jajaj'))\n",
        "print(problem2('TiGer'))    \n",
        "\n"
      ]
    },
    {
      "cell_type": "code",
      "execution_count": 6,
      "metadata": {},
      "outputs": [
        {
          "name": "stdout",
          "output_type": "stream",
          "text": [
            "None\n"
          ]
        }
      ],
      "source": [
        "# Problem 3\n",
        "# Given a set of tiles and a word, can you check if the word can be made from tiles?\n",
        "def problem3(userLetters, enteredWord):\n",
        "    i = 0\n",
        "    j = 0\n",
        "    for i in range (0,len(enteredWord)-1):\n",
        "        currentChar = enteredWord[i]\n",
        "        for j in range (0, len(userLetters)):\n",
        "            if currentChar == userLetters:\n",
        "                return True\n",
        "    \n",
        "\n",
        "print(problem3(['d','h','l','o'], 'hold'))\n",
        "\n",
        "\n"
      ]
    },
    {
      "cell_type": "code",
      "execution_count": null,
      "metadata": {},
      "outputs": [],
      "source": [
        "# Problem 4\n",
        "# Given a set of tiles, can you find all the words you can make with them?\n",
        "def problem4(userLetters,enteredWord,)"
      ]
    }
  ],
  "metadata": {
    "colab": {
      "authorship_tag": "ABX9TyOmoLUdJNF8RgY+ga/agYOA",
      "include_colab_link": true,
      "mount_file_id": "17gXS3J_Tmfq02SYSDU3jfYlIO_omnkKG",
      "provenance": []
    },
    "kernelspec": {
      "display_name": "Python 3",
      "language": "python",
      "name": "python3"
    },
    "language_info": {
      "codemirror_mode": {
        "name": "ipython",
        "version": 3
      },
      "file_extension": ".py",
      "mimetype": "text/x-python",
      "name": "python",
      "nbconvert_exporter": "python",
      "pygments_lexer": "ipython3",
      "version": "3.11.1"
    },
    "vscode": {
      "interpreter": {
        "hash": "107be6e04c90a407ce7d42a4a7080332e061c3291af4bd347feca4a0d785a7e8"
      }
    }
  },
  "nbformat": 4,
  "nbformat_minor": 0
}
